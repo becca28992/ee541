{
 "cells": [
  {
   "cell_type": "code",
   "execution_count": 1,
   "metadata": {
    "_kg_hide-input": false,
    "execution": {
     "iopub.execute_input": "2021-11-20T08:29:42.241040Z",
     "iopub.status.busy": "2021-11-20T08:29:42.240310Z",
     "iopub.status.idle": "2021-11-20T08:29:42.247947Z",
     "shell.execute_reply": "2021-11-20T08:29:42.247136Z",
     "shell.execute_reply.started": "2021-11-20T08:29:42.240994Z"
    }
   },
   "outputs": [],
   "source": [
    "# Sartorius\n",
    "\n",
    "import numpy as np\n",
    "import pandas as pd\n",
    "import random\n",
    "from glob import glob\n",
    "# visualization\n",
    "import cv2\n",
    "import matplotlib.pyplot as plt\n",
    "from PIL import Image\n",
    "\n",
    "# PyTorch \n",
    "import torch\n",
    "import torch.nn as nn\n",
    "import torch.optim as optim\n",
    "from torch.optim import lr_scheduler\n",
    "from torch.utils.data import Dataset, DataLoader\n",
    "from torchvision import transforms"
   ]
  },
  {
   "cell_type": "code",
   "execution_count": 2,
   "metadata": {
    "execution": {
     "iopub.execute_input": "2021-11-20T08:29:43.285138Z",
     "iopub.status.busy": "2021-11-20T08:29:43.284652Z",
     "iopub.status.idle": "2021-11-20T08:29:43.288954Z",
     "shell.execute_reply": "2021-11-20T08:29:43.288143Z",
     "shell.execute_reply.started": "2021-11-20T08:29:43.285106Z"
    }
   },
   "outputs": [],
   "source": [
    "# folder train, test and file train.csv in the same directory\n",
    "BASE_PATH  = '.'"
   ]
  },
  {
   "cell_type": "markdown",
   "metadata": {},
   "source": [
    "# Train Data"
   ]
  },
  {
   "cell_type": "code",
   "execution_count": 3,
   "metadata": {
    "execution": {
     "iopub.execute_input": "2021-11-20T08:29:43.430718Z",
     "iopub.status.busy": "2021-11-20T08:29:43.430405Z",
     "iopub.status.idle": "2021-11-20T08:29:43.872868Z",
     "shell.execute_reply": "2021-11-20T08:29:43.872019Z",
     "shell.execute_reply.started": "2021-11-20T08:29:43.430690Z"
    }
   },
   "outputs": [
    {
     "data": {
      "text/html": [
       "<div>\n",
       "<style scoped>\n",
       "    .dataframe tbody tr th:only-of-type {\n",
       "        vertical-align: middle;\n",
       "    }\n",
       "\n",
       "    .dataframe tbody tr th {\n",
       "        vertical-align: top;\n",
       "    }\n",
       "\n",
       "    .dataframe thead th {\n",
       "        text-align: right;\n",
       "    }\n",
       "</style>\n",
       "<table border=\"1\" class=\"dataframe\">\n",
       "  <thead>\n",
       "    <tr style=\"text-align: right;\">\n",
       "      <th></th>\n",
       "      <th>id</th>\n",
       "      <th>annotation</th>\n",
       "      <th>width</th>\n",
       "      <th>height</th>\n",
       "      <th>cell_type</th>\n",
       "      <th>plate_time</th>\n",
       "      <th>sample_date</th>\n",
       "      <th>sample_id</th>\n",
       "      <th>elapsed_timedelta</th>\n",
       "      <th>image_path</th>\n",
       "    </tr>\n",
       "  </thead>\n",
       "  <tbody>\n",
       "    <tr>\n",
       "      <th>0</th>\n",
       "      <td>0030fd0e6378</td>\n",
       "      <td>[118145 6 118849 7 119553 8 120257 8 120961 9 ...</td>\n",
       "      <td>704</td>\n",
       "      <td>520</td>\n",
       "      <td>shsy5y</td>\n",
       "      <td>11h30m00s</td>\n",
       "      <td>2019-06-16</td>\n",
       "      <td>shsy5y[diff]_E10-4_Vessel-714_Ph_3</td>\n",
       "      <td>0 days 11:30:00</td>\n",
       "      <td>./train/0030fd0e6378.png</td>\n",
       "    </tr>\n",
       "    <tr>\n",
       "      <th>1</th>\n",
       "      <td>0140b3c8f445</td>\n",
       "      <td>[32499 3 33201 7 33902 9 34604 10 35306 11 360...</td>\n",
       "      <td>704</td>\n",
       "      <td>520</td>\n",
       "      <td>astro</td>\n",
       "      <td>09h00m00s</td>\n",
       "      <td>2020-09-13</td>\n",
       "      <td>astros[cereb]_F8-3_Vessel-361_Ph_4</td>\n",
       "      <td>0 days 09:00:00</td>\n",
       "      <td>./train/0140b3c8f445.png</td>\n",
       "    </tr>\n",
       "    <tr>\n",
       "      <th>2</th>\n",
       "      <td>01ae5a43a2ab</td>\n",
       "      <td>[241026 3 241726 9 242427 13 243130 14 243834 ...</td>\n",
       "      <td>704</td>\n",
       "      <td>520</td>\n",
       "      <td>cort</td>\n",
       "      <td>13h30m00s</td>\n",
       "      <td>2020-11-04</td>\n",
       "      <td>cort[oka-high]_B5-1_Vessel-377_Ph_1</td>\n",
       "      <td>0 days 13:30:00</td>\n",
       "      <td>./train/01ae5a43a2ab.png</td>\n",
       "    </tr>\n",
       "  </tbody>\n",
       "</table>\n",
       "</div>"
      ],
      "text/plain": [
       "             id                                         annotation  width  \\\n",
       "0  0030fd0e6378  [118145 6 118849 7 119553 8 120257 8 120961 9 ...    704   \n",
       "1  0140b3c8f445  [32499 3 33201 7 33902 9 34604 10 35306 11 360...    704   \n",
       "2  01ae5a43a2ab  [241026 3 241726 9 242427 13 243130 14 243834 ...    704   \n",
       "\n",
       "   height cell_type plate_time sample_date  \\\n",
       "0     520    shsy5y  11h30m00s  2019-06-16   \n",
       "1     520     astro  09h00m00s  2020-09-13   \n",
       "2     520      cort  13h30m00s  2020-11-04   \n",
       "\n",
       "                             sample_id elapsed_timedelta  \\\n",
       "0   shsy5y[diff]_E10-4_Vessel-714_Ph_3   0 days 11:30:00   \n",
       "1   astros[cereb]_F8-3_Vessel-361_Ph_4   0 days 09:00:00   \n",
       "2  cort[oka-high]_B5-1_Vessel-377_Ph_1   0 days 13:30:00   \n",
       "\n",
       "                 image_path  \n",
       "0  ./train/0030fd0e6378.png  \n",
       "1  ./train/0140b3c8f445.png  \n",
       "2  ./train/01ae5a43a2ab.png  "
      ]
     },
     "execution_count": 3,
     "metadata": {},
     "output_type": "execute_result"
    }
   ],
   "source": [
    "\n",
    "df = pd.read_csv(f'{BASE_PATH}/train.csv')\n",
    "df['image_path'] = BASE_PATH + '/train/' + df['id'] + '.png'\n",
    "tmp_df = df.drop_duplicates(subset=[\"id\", \"image_path\"]).reset_index(drop=True)\n",
    "tmp_df[\"annotation\"] = df.groupby(\"id\")[\"annotation\"].agg(list).reset_index(drop=True)\n",
    "df = tmp_df.copy()\n",
    "df.head(3)"
   ]
  },
  {
   "cell_type": "markdown",
   "metadata": {},
   "source": [
    "# Test Data"
   ]
  },
  {
   "cell_type": "code",
   "execution_count": 4,
   "metadata": {
    "execution": {
     "iopub.execute_input": "2021-11-20T08:29:44.179516Z",
     "iopub.status.busy": "2021-11-20T08:29:44.179024Z",
     "iopub.status.idle": "2021-11-20T08:29:44.190608Z",
     "shell.execute_reply": "2021-11-20T08:29:44.189617Z",
     "shell.execute_reply.started": "2021-11-20T08:29:44.179481Z"
    }
   },
   "outputs": [
    {
     "name": "stdout",
     "output_type": "stream",
     "text": [
      "                image_path                 id\n",
      "0  ./test\\7ae19de7bc2a.png  test\\7ae19de7bc2a\n",
      "1  ./test\\d48ec7815252.png  test\\d48ec7815252\n",
      "2  ./test\\d8bfd1dafdc4.png  test\\d8bfd1dafdc4\n"
     ]
    }
   ],
   "source": [
    "\n",
    "test_df = pd.DataFrame(glob(BASE_PATH+'/test/*'), columns=['image_path'])\n",
    "test_df['id'] = test_df.image_path.map(lambda x: x.split('/')[-1].split('.')[0])\n",
    "\n",
    "print(test_df.head(3))"
   ]
  },
  {
   "cell_type": "code",
   "execution_count": 5,
   "metadata": {
    "execution": {
     "iopub.execute_input": "2021-11-20T08:29:45.509689Z",
     "iopub.status.busy": "2021-11-20T08:29:45.509393Z",
     "iopub.status.idle": "2021-11-20T08:29:45.530458Z",
     "shell.execute_reply": "2021-11-20T08:29:45.529640Z",
     "shell.execute_reply.started": "2021-11-20T08:29:45.509662Z"
    }
   },
   "outputs": [
    {
     "data": {
      "text/html": [
       "<div>\n",
       "<style scoped>\n",
       "    .dataframe tbody tr th:only-of-type {\n",
       "        vertical-align: middle;\n",
       "    }\n",
       "\n",
       "    .dataframe tbody tr th {\n",
       "        vertical-align: top;\n",
       "    }\n",
       "\n",
       "    .dataframe thead th {\n",
       "        text-align: right;\n",
       "    }\n",
       "</style>\n",
       "<table border=\"1\" class=\"dataframe\">\n",
       "  <thead>\n",
       "    <tr style=\"text-align: right;\">\n",
       "      <th></th>\n",
       "      <th>id</th>\n",
       "      <th>annotation</th>\n",
       "      <th>width</th>\n",
       "      <th>height</th>\n",
       "      <th>cell_type</th>\n",
       "      <th>plate_time</th>\n",
       "      <th>sample_date</th>\n",
       "      <th>sample_id</th>\n",
       "      <th>elapsed_timedelta</th>\n",
       "      <th>image_path</th>\n",
       "    </tr>\n",
       "  </thead>\n",
       "  <tbody>\n",
       "    <tr>\n",
       "      <th>0</th>\n",
       "      <td>0030fd0e6378</td>\n",
       "      <td>[118145 6 118849 7 119553 8 120257 8 120961 9 ...</td>\n",
       "      <td>704</td>\n",
       "      <td>520</td>\n",
       "      <td>shsy5y</td>\n",
       "      <td>11h30m00s</td>\n",
       "      <td>2019-06-16</td>\n",
       "      <td>shsy5y[diff]_E10-4_Vessel-714_Ph_3</td>\n",
       "      <td>0 days 11:30:00</td>\n",
       "      <td>./train/0030fd0e6378.png</td>\n",
       "    </tr>\n",
       "    <tr>\n",
       "      <th>1</th>\n",
       "      <td>0140b3c8f445</td>\n",
       "      <td>[32499 3 33201 7 33902 9 34604 10 35306 11 360...</td>\n",
       "      <td>704</td>\n",
       "      <td>520</td>\n",
       "      <td>astro</td>\n",
       "      <td>09h00m00s</td>\n",
       "      <td>2020-09-13</td>\n",
       "      <td>astros[cereb]_F8-3_Vessel-361_Ph_4</td>\n",
       "      <td>0 days 09:00:00</td>\n",
       "      <td>./train/0140b3c8f445.png</td>\n",
       "    </tr>\n",
       "    <tr>\n",
       "      <th>2</th>\n",
       "      <td>01ae5a43a2ab</td>\n",
       "      <td>[241026 3 241726 9 242427 13 243130 14 243834 ...</td>\n",
       "      <td>704</td>\n",
       "      <td>520</td>\n",
       "      <td>cort</td>\n",
       "      <td>13h30m00s</td>\n",
       "      <td>2020-11-04</td>\n",
       "      <td>cort[oka-high]_B5-1_Vessel-377_Ph_1</td>\n",
       "      <td>0 days 13:30:00</td>\n",
       "      <td>./train/01ae5a43a2ab.png</td>\n",
       "    </tr>\n",
       "    <tr>\n",
       "      <th>3</th>\n",
       "      <td>026b3c2c4b32</td>\n",
       "      <td>[170753 5 171454 12 172158 13 172862 13 173565...</td>\n",
       "      <td>704</td>\n",
       "      <td>520</td>\n",
       "      <td>cort</td>\n",
       "      <td>19h30m00s</td>\n",
       "      <td>2020-11-04</td>\n",
       "      <td>cort[oka-low]_H6-2_Vessel-377_Ph_2</td>\n",
       "      <td>0 days 19:30:00</td>\n",
       "      <td>./train/026b3c2c4b32.png</td>\n",
       "    </tr>\n",
       "    <tr>\n",
       "      <th>4</th>\n",
       "      <td>029e5b3b89c7</td>\n",
       "      <td>[139142 7 139845 10 140548 13 141251 15 141955...</td>\n",
       "      <td>704</td>\n",
       "      <td>520</td>\n",
       "      <td>cort</td>\n",
       "      <td>13h30m00s</td>\n",
       "      <td>2020-10-27</td>\n",
       "      <td>cort[pre-treat]_B8-2_Vessel-377_Ph_2</td>\n",
       "      <td>0 days 13:30:00</td>\n",
       "      <td>./train/029e5b3b89c7.png</td>\n",
       "    </tr>\n",
       "    <tr>\n",
       "      <th>...</th>\n",
       "      <td>...</td>\n",
       "      <td>...</td>\n",
       "      <td>...</td>\n",
       "      <td>...</td>\n",
       "      <td>...</td>\n",
       "      <td>...</td>\n",
       "      <td>...</td>\n",
       "      <td>...</td>\n",
       "      <td>...</td>\n",
       "      <td>...</td>\n",
       "    </tr>\n",
       "    <tr>\n",
       "      <th>601</th>\n",
       "      <td>fd98d82784a1</td>\n",
       "      <td>[335979 1 336681 3 337385 3 338088 3 338792 3 ...</td>\n",
       "      <td>704</td>\n",
       "      <td>520</td>\n",
       "      <td>astro</td>\n",
       "      <td>13h00m00s</td>\n",
       "      <td>2020-09-14</td>\n",
       "      <td>astro[hippo]_G1-4_Vessel-361_Ph_3</td>\n",
       "      <td>0 days 13:00:00</td>\n",
       "      <td>./train/fd98d82784a1.png</td>\n",
       "    </tr>\n",
       "    <tr>\n",
       "      <th>602</th>\n",
       "      <td>fe33dfcf4ebd</td>\n",
       "      <td>[165826 7 166526 14 167199 45 167901 46 168603...</td>\n",
       "      <td>704</td>\n",
       "      <td>520</td>\n",
       "      <td>astro</td>\n",
       "      <td>13h00m00s</td>\n",
       "      <td>2020-09-15</td>\n",
       "      <td>astro[hippo]_F2-4_Vessel-361_Ph_1</td>\n",
       "      <td>0 days 13:00:00</td>\n",
       "      <td>./train/fe33dfcf4ebd.png</td>\n",
       "    </tr>\n",
       "    <tr>\n",
       "      <th>603</th>\n",
       "      <td>fe3e30f849f4</td>\n",
       "      <td>[343210 3 343912 4 344610 9 345312 10 346014 1...</td>\n",
       "      <td>704</td>\n",
       "      <td>520</td>\n",
       "      <td>shsy5y</td>\n",
       "      <td>11h30m00s</td>\n",
       "      <td>2019-06-15</td>\n",
       "      <td>shsy5y[diff]_D10-4_Vessel-714_Ph_3</td>\n",
       "      <td>0 days 11:30:00</td>\n",
       "      <td>./train/fe3e30f849f4.png</td>\n",
       "    </tr>\n",
       "    <tr>\n",
       "      <th>604</th>\n",
       "      <td>ffc2ead3e8cc</td>\n",
       "      <td>[252827 1 253531 3 254235 5 254940 5 255644 7 ...</td>\n",
       "      <td>704</td>\n",
       "      <td>520</td>\n",
       "      <td>astro</td>\n",
       "      <td>09h00m00s</td>\n",
       "      <td>2020-09-13</td>\n",
       "      <td>astros[cereb]_F11-4_Vessel-361_Ph_1</td>\n",
       "      <td>0 days 09:00:00</td>\n",
       "      <td>./train/ffc2ead3e8cc.png</td>\n",
       "    </tr>\n",
       "    <tr>\n",
       "      <th>605</th>\n",
       "      <td>ffdb3cc02eef</td>\n",
       "      <td>[96707 4 97406 10 98110 11 98814 11 99517 12 1...</td>\n",
       "      <td>704</td>\n",
       "      <td>520</td>\n",
       "      <td>cort</td>\n",
       "      <td>11h59m00s</td>\n",
       "      <td>2020-11-01</td>\n",
       "      <td>cort[debris]_D9-3_Vessel-384_Ph_4</td>\n",
       "      <td>0 days 11:59:00</td>\n",
       "      <td>./train/ffdb3cc02eef.png</td>\n",
       "    </tr>\n",
       "  </tbody>\n",
       "</table>\n",
       "<p>606 rows × 10 columns</p>\n",
       "</div>"
      ],
      "text/plain": [
       "               id                                         annotation  width  \\\n",
       "0    0030fd0e6378  [118145 6 118849 7 119553 8 120257 8 120961 9 ...    704   \n",
       "1    0140b3c8f445  [32499 3 33201 7 33902 9 34604 10 35306 11 360...    704   \n",
       "2    01ae5a43a2ab  [241026 3 241726 9 242427 13 243130 14 243834 ...    704   \n",
       "3    026b3c2c4b32  [170753 5 171454 12 172158 13 172862 13 173565...    704   \n",
       "4    029e5b3b89c7  [139142 7 139845 10 140548 13 141251 15 141955...    704   \n",
       "..            ...                                                ...    ...   \n",
       "601  fd98d82784a1  [335979 1 336681 3 337385 3 338088 3 338792 3 ...    704   \n",
       "602  fe33dfcf4ebd  [165826 7 166526 14 167199 45 167901 46 168603...    704   \n",
       "603  fe3e30f849f4  [343210 3 343912 4 344610 9 345312 10 346014 1...    704   \n",
       "604  ffc2ead3e8cc  [252827 1 253531 3 254235 5 254940 5 255644 7 ...    704   \n",
       "605  ffdb3cc02eef  [96707 4 97406 10 98110 11 98814 11 99517 12 1...    704   \n",
       "\n",
       "     height cell_type plate_time sample_date  \\\n",
       "0       520    shsy5y  11h30m00s  2019-06-16   \n",
       "1       520     astro  09h00m00s  2020-09-13   \n",
       "2       520      cort  13h30m00s  2020-11-04   \n",
       "3       520      cort  19h30m00s  2020-11-04   \n",
       "4       520      cort  13h30m00s  2020-10-27   \n",
       "..      ...       ...        ...         ...   \n",
       "601     520     astro  13h00m00s  2020-09-14   \n",
       "602     520     astro  13h00m00s  2020-09-15   \n",
       "603     520    shsy5y  11h30m00s  2019-06-15   \n",
       "604     520     astro  09h00m00s  2020-09-13   \n",
       "605     520      cort  11h59m00s  2020-11-01   \n",
       "\n",
       "                                sample_id elapsed_timedelta  \\\n",
       "0      shsy5y[diff]_E10-4_Vessel-714_Ph_3   0 days 11:30:00   \n",
       "1      astros[cereb]_F8-3_Vessel-361_Ph_4   0 days 09:00:00   \n",
       "2     cort[oka-high]_B5-1_Vessel-377_Ph_1   0 days 13:30:00   \n",
       "3      cort[oka-low]_H6-2_Vessel-377_Ph_2   0 days 19:30:00   \n",
       "4    cort[pre-treat]_B8-2_Vessel-377_Ph_2   0 days 13:30:00   \n",
       "..                                    ...               ...   \n",
       "601     astro[hippo]_G1-4_Vessel-361_Ph_3   0 days 13:00:00   \n",
       "602     astro[hippo]_F2-4_Vessel-361_Ph_1   0 days 13:00:00   \n",
       "603    shsy5y[diff]_D10-4_Vessel-714_Ph_3   0 days 11:30:00   \n",
       "604   astros[cereb]_F11-4_Vessel-361_Ph_1   0 days 09:00:00   \n",
       "605     cort[debris]_D9-3_Vessel-384_Ph_4   0 days 11:59:00   \n",
       "\n",
       "                   image_path  \n",
       "0    ./train/0030fd0e6378.png  \n",
       "1    ./train/0140b3c8f445.png  \n",
       "2    ./train/01ae5a43a2ab.png  \n",
       "3    ./train/026b3c2c4b32.png  \n",
       "4    ./train/029e5b3b89c7.png  \n",
       "..                        ...  \n",
       "601  ./train/fd98d82784a1.png  \n",
       "602  ./train/fe33dfcf4ebd.png  \n",
       "603  ./train/fe3e30f849f4.png  \n",
       "604  ./train/ffc2ead3e8cc.png  \n",
       "605  ./train/ffdb3cc02eef.png  \n",
       "\n",
       "[606 rows x 10 columns]"
      ]
     },
     "execution_count": 5,
     "metadata": {},
     "output_type": "execute_result"
    }
   ],
   "source": [
    "df.head(606)"
   ]
  },
  {
   "cell_type": "markdown",
   "metadata": {},
   "source": [
    "# Dataset"
   ]
  },
  {
   "cell_type": "code",
   "execution_count": 6,
   "metadata": {
    "execution": {
     "iopub.execute_input": "2021-11-20T08:49:42.625780Z",
     "iopub.status.busy": "2021-11-20T08:49:42.625518Z",
     "iopub.status.idle": "2021-11-20T08:49:42.632980Z",
     "shell.execute_reply": "2021-11-20T08:49:42.632269Z",
     "shell.execute_reply.started": "2021-11-20T08:49:42.625753Z"
    }
   },
   "outputs": [],
   "source": [
    "class BuildDataset(torch.utils.data.Dataset):\n",
    "    def __init__(self, df, transforms=None):\n",
    "        self.df = df\n",
    "        self.img_paths  = df['image_path'].values\n",
    "        self.annotation = df['annotation'].values\n",
    "        self.cell_type = df['cell_type'].values\n",
    "        self.transforms = transforms\n",
    "        \n",
    "    def __len__(self):\n",
    "        return len(self.df)\n",
    "    \n",
    "    def __getitem__(self, index):\n",
    "        img_path = self.img_paths[index]\n",
    "        img = cv2.imread(img_path)\n",
    "        img = cv2.cvtColor(img, cv2.COLOR_BGR2RGB)\n",
    "        img = Image.fromarray(img)\n",
    "        if self.transforms:\n",
    "            img = self.transforms(img)\n",
    "        else:\n",
    "            img = img\n",
    "        annotation = str(self.annotation[index])\n",
    "        cell_type = self.cell_type[index]\n",
    "            # img  = data['image']\n",
    "        return img, annotation, cell_type"
   ]
  },
  {
   "cell_type": "markdown",
   "metadata": {},
   "source": [
    "# Augmentations"
   ]
  },
  {
   "cell_type": "code",
   "execution_count": 7,
   "metadata": {
    "execution": {
     "iopub.execute_input": "2021-11-20T08:49:43.536855Z",
     "iopub.status.busy": "2021-11-20T08:49:43.536397Z",
     "iopub.status.idle": "2021-11-20T08:49:43.542058Z",
     "shell.execute_reply": "2021-11-20T08:49:43.541079Z",
     "shell.execute_reply.started": "2021-11-20T08:49:43.536824Z"
    }
   },
   "outputs": [],
   "source": [
    "#data Augumentation\n",
    "transformations =  transforms.Compose([\n",
    "        transforms.Resize((224, 224)),\n",
    "        transforms.RandomResizedCrop(224),\n",
    "        transforms.RandomHorizontalFlip(),\n",
    "        transforms.ToTensor(),\n",
    "        transforms.Normalize((0.485, 0.456, 0.406), (0.229, 0.224, 0.225))\n",
    "        \n",
    "    ])"
   ]
  },
  {
   "cell_type": "markdown",
   "metadata": {},
   "source": [
    "# DataLoader"
   ]
  },
  {
   "cell_type": "code",
   "execution_count": 8,
   "metadata": {
    "execution": {
     "iopub.execute_input": "2021-11-20T08:49:44.346819Z",
     "iopub.status.busy": "2021-11-20T08:49:44.346299Z",
     "iopub.status.idle": "2021-11-20T08:49:44.353910Z",
     "shell.execute_reply": "2021-11-20T08:49:44.353075Z",
     "shell.execute_reply.started": "2021-11-20T08:49:44.346778Z"
    }
   },
   "outputs": [],
   "source": [
    "def prepare_loaders(batch_size, split=0.7):\n",
    "    train_df = df.iloc[:int(len(df) * split)]\n",
    "    valid_df = df.iloc[int(len(df) * split):]\n",
    "    \n",
    "    train_dataset = BuildDataset(train_df, transforms=transformations)\n",
    "    valid_dataset = BuildDataset(valid_df, transforms=transformations)\n",
    "\n",
    "    train_loader = DataLoader(train_dataset, batch_size=batch_size, \n",
    "                              num_workers=2, shuffle=True, pin_memory=True, drop_last=True)\n",
    "    valid_loader = DataLoader(valid_dataset, batch_size=batch_size, \n",
    "                              num_workers=2, shuffle=False, pin_memory=True)\n",
    "    \n",
    "    return train_loader, valid_loader\n"
   ]
  },
  {
   "cell_type": "code",
   "execution_count": 9,
   "metadata": {
    "execution": {
     "iopub.execute_input": "2021-11-20T08:49:45.155479Z",
     "iopub.status.busy": "2021-11-20T08:49:45.154992Z",
     "iopub.status.idle": "2021-11-20T08:49:45.161055Z",
     "shell.execute_reply": "2021-11-20T08:49:45.160283Z",
     "shell.execute_reply.started": "2021-11-20T08:49:45.155445Z"
    }
   },
   "outputs": [],
   "source": [
    "train_loader, valid_loader = prepare_loaders(batch_size=64)"
   ]
  },
  {
   "cell_type": "code",
   "execution_count": null,
   "metadata": {
    "execution": {
     "iopub.execute_input": "2021-11-20T08:49:46.060276Z",
     "iopub.status.busy": "2021-11-20T08:49:46.059729Z",
     "iopub.status.idle": "2021-11-20T08:49:48.751330Z",
     "shell.execute_reply": "2021-11-20T08:49:48.750594Z",
     "shell.execute_reply.started": "2021-11-20T08:49:46.060245Z"
    }
   },
   "outputs": [],
   "source": [
    "imgs, annotations, cell_types = iter(train_loader).next()\n",
    "imgs = imgs.permute((0, 2, 3, 1))\n",
    "imgs.size()"
   ]
  },
  {
   "cell_type": "code",
   "execution_count": null,
   "metadata": {},
   "outputs": [],
   "source": []
  }
 ],
 "metadata": {
  "kernelspec": {
   "display_name": "Python 3 (ipykernel)",
   "language": "python",
   "name": "python3"
  },
  "language_info": {
   "codemirror_mode": {
    "name": "ipython",
    "version": 3
   },
   "file_extension": ".py",
   "mimetype": "text/x-python",
   "name": "python",
   "nbconvert_exporter": "python",
   "pygments_lexer": "ipython3",
   "version": "3.8.11"
  }
 },
 "nbformat": 4,
 "nbformat_minor": 4
}
